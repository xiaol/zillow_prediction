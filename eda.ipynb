{
 "cells": [
  {
   "cell_type": "code",
   "execution_count": 4,
   "metadata": {
    "collapsed": true
   },
   "outputs": [],
   "source": [
    "import pandas as pd\n",
    "from sklearn import preprocessing\n"
   ]
  },
  {
   "cell_type": "code",
   "execution_count": 4,
   "metadata": {
    "collapsed": true
   },
   "outputs": [],
   "source": [
    "df_vote = pd.read_csv('data/vote_xgb_nn.csv')"
   ]
  },
  {
   "cell_type": "code",
   "execution_count": 5,
   "metadata": {},
   "outputs": [
    {
     "name": "stdout",
     "output_type": "stream",
     "text": [
      "<class 'pandas.core.frame.DataFrame'>\n",
      "RangeIndex: 2985217 entries, 0 to 2985216\n",
      "Data columns (total 7 columns):\n",
      "ParcelId    int64\n",
      "201610      float64\n",
      "201611      float64\n",
      "201612      float64\n",
      "201710      float64\n",
      "201711      float64\n",
      "201712      float64\n",
      "dtypes: float64(6), int64(1)\n",
      "memory usage: 159.4 MB\n"
     ]
    }
   ],
   "source": [
    "df_vote.info()"
   ]
  },
  {
   "cell_type": "code",
   "execution_count": 6,
   "metadata": {},
   "outputs": [
    {
     "data": {
      "text/html": [
       "<div>\n",
       "<style>\n",
       "    .dataframe thead tr:only-child th {\n",
       "        text-align: right;\n",
       "    }\n",
       "\n",
       "    .dataframe thead th {\n",
       "        text-align: left;\n",
       "    }\n",
       "\n",
       "    .dataframe tbody tr th {\n",
       "        vertical-align: top;\n",
       "    }\n",
       "</style>\n",
       "<table border=\"1\" class=\"dataframe\">\n",
       "  <thead>\n",
       "    <tr style=\"text-align: right;\">\n",
       "      <th></th>\n",
       "      <th>ParcelId</th>\n",
       "      <th>201610</th>\n",
       "      <th>201611</th>\n",
       "      <th>201612</th>\n",
       "      <th>201710</th>\n",
       "      <th>201711</th>\n",
       "      <th>201712</th>\n",
       "    </tr>\n",
       "  </thead>\n",
       "  <tbody>\n",
       "    <tr>\n",
       "      <th>0</th>\n",
       "      <td>10711725</td>\n",
       "      <td>0.0058</td>\n",
       "      <td>NaN</td>\n",
       "      <td>NaN</td>\n",
       "      <td>NaN</td>\n",
       "      <td>NaN</td>\n",
       "      <td>NaN</td>\n",
       "    </tr>\n",
       "    <tr>\n",
       "      <th>1</th>\n",
       "      <td>10711726</td>\n",
       "      <td>0.0073</td>\n",
       "      <td>NaN</td>\n",
       "      <td>NaN</td>\n",
       "      <td>NaN</td>\n",
       "      <td>NaN</td>\n",
       "      <td>NaN</td>\n",
       "    </tr>\n",
       "    <tr>\n",
       "      <th>2</th>\n",
       "      <td>10711727</td>\n",
       "      <td>0.0174</td>\n",
       "      <td>NaN</td>\n",
       "      <td>NaN</td>\n",
       "      <td>NaN</td>\n",
       "      <td>NaN</td>\n",
       "      <td>NaN</td>\n",
       "    </tr>\n",
       "    <tr>\n",
       "      <th>3</th>\n",
       "      <td>10711728</td>\n",
       "      <td>0.0091</td>\n",
       "      <td>NaN</td>\n",
       "      <td>NaN</td>\n",
       "      <td>NaN</td>\n",
       "      <td>NaN</td>\n",
       "      <td>NaN</td>\n",
       "    </tr>\n",
       "    <tr>\n",
       "      <th>4</th>\n",
       "      <td>10711729</td>\n",
       "      <td>0.0078</td>\n",
       "      <td>NaN</td>\n",
       "      <td>NaN</td>\n",
       "      <td>NaN</td>\n",
       "      <td>NaN</td>\n",
       "      <td>NaN</td>\n",
       "    </tr>\n",
       "  </tbody>\n",
       "</table>\n",
       "</div>"
      ],
      "text/plain": [
       "   ParcelId  201610  201611  201612  201710  201711  201712\n",
       "0  10711725  0.0058     NaN     NaN     NaN     NaN     NaN\n",
       "1  10711726  0.0073     NaN     NaN     NaN     NaN     NaN\n",
       "2  10711727  0.0174     NaN     NaN     NaN     NaN     NaN\n",
       "3  10711728  0.0091     NaN     NaN     NaN     NaN     NaN\n",
       "4  10711729  0.0078     NaN     NaN     NaN     NaN     NaN"
      ]
     },
     "execution_count": 6,
     "metadata": {},
     "output_type": "execute_result"
    }
   ],
   "source": [
    "df_vote.head()"
   ]
  },
  {
   "cell_type": "code",
   "execution_count": 8,
   "metadata": {
    "collapsed": true
   },
   "outputs": [],
   "source": [
    "from collections import Counter"
   ]
  },
  {
   "cell_type": "code",
   "execution_count": 10,
   "metadata": {},
   "outputs": [
    {
     "data": {
      "text/plain": [
       "Counter({0.1: 1, 0.2: 1})"
      ]
     },
     "execution_count": 10,
     "metadata": {},
     "output_type": "execute_result"
    }
   ],
   "source": [
    "c = Counter([0.2,0.1])\n",
    "c"
   ]
  },
  {
   "cell_type": "code",
   "execution_count": 11,
   "metadata": {},
   "outputs": [
    {
     "data": {
      "text/plain": [
       "[(0.1, 1)]"
      ]
     },
     "execution_count": 11,
     "metadata": {},
     "output_type": "execute_result"
    }
   ],
   "source": [
    "c.most_common(1)"
   ]
  },
  {
   "cell_type": "code",
   "execution_count": 12,
   "metadata": {},
   "outputs": [
    {
     "data": {
      "text/plain": [
       "0.1"
      ]
     },
     "execution_count": 12,
     "metadata": {},
     "output_type": "execute_result"
    }
   ],
   "source": [
    "c.most_common(1)[0][0]"
   ]
  },
  {
   "cell_type": "code",
   "execution_count": 17,
   "metadata": {},
   "outputs": [],
   "source": [
    "prop = pd.read_csv('data/properties_2016.csv', nrows=20).fillna(0)  # , nrows=500)"
   ]
  },
  {
   "cell_type": "code",
   "execution_count": 18,
   "metadata": {},
   "outputs": [
    {
     "name": "stdout",
     "output_type": "stream",
     "text": [
      "parcelid\n",
      "0     10754147\n",
      "1     10759547\n",
      "2     10843547\n",
      "3     10859147\n",
      "4     10879947\n",
      "5     10898347\n",
      "6     10933547\n",
      "7     10940747\n",
      "8     10954547\n",
      "9     10976347\n",
      "10    11073947\n",
      "11    11114347\n",
      "12    11116947\n",
      "13    11142747\n",
      "14    11193347\n",
      "15    11215747\n",
      "16    11229347\n",
      "17    11287347\n",
      "18    11288547\n",
      "19    11324547\n",
      "Name: parcelid, dtype: int64\n",
      "0    -1.610429\n",
      "1    -1.579935\n",
      "2    -1.105599\n",
      "3    -1.017508\n",
      "4    -0.900053\n",
      "5    -0.796151\n",
      "6    -0.597382\n",
      "7    -0.556724\n",
      "8    -0.478797\n",
      "9    -0.355696\n",
      "10    0.195438\n",
      "11    0.423571\n",
      "12    0.438253\n",
      "13    0.583942\n",
      "14    0.869673\n",
      "15    0.996163\n",
      "16    1.072960\n",
      "17    1.400478\n",
      "18    1.407254\n",
      "19    1.610541\n",
      "Name: parcelid, dtype: float64\n"
     ]
    }
   ],
   "source": [
    "scaler_dict = {}\n",
    "for n_col in prop.columns[:1]:\n",
    "    print(n_col)\n",
    "    print(prop[n_col])\n",
    "\n",
    "    scaler = preprocessing.StandardScaler()\n",
    "    scaler.fit(prop[n_col].values.reshape(-1,1))\n",
    "    prop[n_col] = scaler.transform(prop[n_col].values.reshape(-1,1))\n",
    "    print(prop[n_col])\n",
    "    scaler_dict[n_col] = scaler"
   ]
  },
  {
   "cell_type": "code",
   "execution_count": null,
   "metadata": {
    "collapsed": true
   },
   "outputs": [],
   "source": []
  }
 ],
 "metadata": {
  "kernelspec": {
   "display_name": "Python 2",
   "language": "python",
   "name": "python2"
  },
  "language_info": {
   "codemirror_mode": {
    "name": "ipython",
    "version": 2
   },
   "file_extension": ".py",
   "mimetype": "text/x-python",
   "name": "python",
   "nbconvert_exporter": "python",
   "pygments_lexer": "ipython2",
   "version": "2.7.13"
  }
 },
 "nbformat": 4,
 "nbformat_minor": 1
}
